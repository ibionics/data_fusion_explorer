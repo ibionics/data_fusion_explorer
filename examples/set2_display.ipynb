{
 "cells": [
  {
   "cell_type": "code",
   "execution_count": 1,
   "id": "dec38a0e",
   "metadata": {},
   "outputs": [],
   "source": [
    "# collect data\n",
    "import os\n",
    "import numpy as np\n",
    "import pandas as pd\n",
    "\n",
    "root = \"./Moth/\"\n",
    "folder = os.listdir(root)\n",
    "datasets = {}\n",
    "for fold in folder:\n",
    "    subfolder = os.listdir(root + fold)\n",
    "    for subfold in subfolder:\n",
    "        name = (fold + \"/\" + subfold)\n",
    "        subsubfolder = os.listdir(root + fold + \"/\" + subfold)\n",
    "        for subsubfold in subsubfolder:\n",
    "            #print(fold + \"/\" + subfold + \"/\" + subsubfold)\n",
    "            if \"MOTH\" in subsubfold:\n",
    "                try:\n",
    "                    moth_data = pd.read_csv(root + fold + \"/\" + subfold + \"/\" + subsubfold)\n",
    "                    moth_data = np.array(moth_data[list(moth_data.keys())[0]])\n",
    "                except: \n",
    "                    print('Empty Moth Dataset, skipping ' + name)\n",
    "                    moth_data = None\n",
    "            elif \"WEATHER\" in subsubfold:\n",
    "                try:\n",
    "                    weather_data = pd.read_csv(root + fold + \"/\" + subfold + \"/\" + subsubfold)\n",
    "                    weather_data = np.array(weather_data[list(weather_data.keys())])\n",
    "                except:# EmptyDataError:\n",
    "                    print('Empty Weather Dataset, skipping ' + name)\n",
    "                    weather_data = None\n",
    "        dataset = {'moth':moth_data, 'weather':weather_data}\n",
    "        datasets.update({name:dataset})"
   ]
  },
  {
   "cell_type": "code",
   "execution_count": 2,
   "id": "15514b28",
   "metadata": {},
   "outputs": [
    {
     "name": "stdout",
     "output_type": "stream",
     "text": [
      "01/01/00 00:04:04\n",
      "(1578, 6)\n",
      "(1069, 1)\n"
     ]
    }
   ],
   "source": [
    "from datetime import datetime\n",
    "\n",
    "dataset = datasets['Trap L1/0720']\n",
    "weather = dataset['weather']\n",
    "moth = dataset['moth']\n",
    "\n",
    "timept = weather[0][0]\n",
    "d0 = datetime.strptime(timept, \"%m/%d/%y %H:%M:%S\")\n",
    "print(timept)\n",
    "for l in range(len(weather)):\n",
    "    timept = weather[l][0]\n",
    "    d = datetime.strptime(timept, \"%m/%d/%y %H:%M:%S\")\n",
    "    delta = d - d0\n",
    "    weather[l][0] = delta.total_seconds()\n",
    "\n",
    "for l in range(len(moth)):\n",
    "    timept = moth[l]\n",
    "    d = datetime.strptime(timept, \"%m/%d/%y %H:%M:%S\")\n",
    "    delta = d - d0\n",
    "    moth[l] = delta.total_seconds()\n",
    "\n",
    "data = pd.DataFrame(weather.astype('float'))\n",
    "y = pd.DataFrame(moth.astype('float'))\n",
    "print(np.shape(data))\n",
    "print(np.shape(y))"
   ]
  },
  {
   "cell_type": "markdown",
   "id": "e24250e3",
   "metadata": {},
   "source": [
    "# Short Window - Random Forest"
   ]
  },
  {
   "cell_type": "code",
   "execution_count": 3,
   "id": "88c6c8e7",
   "metadata": {},
   "outputs": [],
   "source": [
    "import DFE_object"
   ]
  },
  {
   "cell_type": "code",
   "execution_count": 4,
   "id": "e055e037",
   "metadata": {},
   "outputs": [
    {
     "name": "stdout",
     "output_type": "stream",
     "text": [
      "Calculated average on dataset Entry_0 at 2023-05-18 13:42:07.413772.\n",
      "Calculated variance on dataset Entry_0 at 2023-05-18 13:42:07.493864.\n",
      "Calculated skewness on dataset Entry_0 at 2023-05-18 13:42:09.589772.\n",
      "Calculated kurtosis on dataset Entry_0 at 2023-05-18 13:42:11.366590.\n",
      "Calculated peak_count on dataset Entry_0 at 2023-05-18 13:42:11.382177.\n",
      "Calculated RMS on dataset Entry_0 at 2023-05-18 13:42:11.429051.\n",
      "Calculated average on dataset Entry_1 at 2023-05-18 13:42:11.475928.\n"
     ]
    },
    {
     "data": {
      "text/plain": [
       "{'R': 0.68, 'RMSE': 0.68, 'RelRMSE': 0.08, 'MAE': 0.56, 'RAE': 0.78}"
      ]
     },
     "execution_count": 4,
     "metadata": {},
     "output_type": "execute_result"
    },
    {
     "data": {
      "image/png": "[encoded data removed]",
      "text/plain": [
       "<Figure size 432x288 with 1 Axes>"
      ]
     },
     "metadata": {
      "needs_background": "light"
     },
     "output_type": "display_data"
    }
   ],
   "source": [
    "# Create DFE object\n",
    "dfeo = DFE_object.DFE_object()\n",
    "\n",
    "# Upload data\n",
    "dfeo.import_from_pandas(data, t = 0)\n",
    "dfeo.import_from_pandas(y, y = 0)\n",
    "\n",
    "# Feature Extraction\n",
    "dfeo.set_window_scheme(length = 300, overlap = 150) # set windowing scheme\n",
    "dfeo.fe_average(\"Entry_0\")\n",
    "dfeo.fe_variance(\"Entry_0\")\n",
    "dfeo.fe_skewness(\"Entry_0\")\n",
    "dfeo.fe_kurtosis(\"Entry_0\")\n",
    "dfeo.fe_peak_count(\"Entry_0\")\n",
    "dfeo.fe_RMS(\"Entry_0\")\n",
    "\n",
    "t = np.array(dfeo.data_in[\"Entry_0\"]['raw_data'])[:,0]\n",
    "dfeo.KDE(\"Entry_1\", t) # this assumes linear alignment with weather dataset, which is valid in this case\n",
    "dfeo.fe_average(\"Entry_1\")\n",
    "\n",
    "dfeo.normalize(\"Entry_0_average\")\n",
    "dfeo.normalize(\"Entry_0_variance\")\n",
    "dfeo.normalize(\"Entry_0_skewness\")\n",
    "dfeo.normalize(\"Entry_0_kurtosis\")\n",
    "dfeo.normalize(\"Entry_0_peak_count\")\n",
    "dfeo.normalize(\"Entry_0_RMS\")\n",
    "dfeo.normalize(\"Entry_1_average\")\n",
    "\n",
    "# Fusion\n",
    "dfeo.concatenate()\n",
    "\n",
    "# Dimension Reduction: PCA\n",
    "dfeo.my_PCA(\"active\")\n",
    "\n",
    "# Regression\n",
    "dfeo.linear_regression()\n",
    "dfeo.regression_report()\n"
   ]
  },
  {
   "cell_type": "markdown",
   "id": "d7836eb7",
   "metadata": {},
   "source": [
    "# Medium Window - Random Forest"
   ]
  },
  {
   "cell_type": "code",
   "execution_count": 5,
   "id": "6e700abe",
   "metadata": {},
   "outputs": [
    {
     "name": "stdout",
     "output_type": "stream",
     "text": [
      "Calculated average on dataset Entry_0 at 2023-05-18 13:42:11.694109.\n",
      "Calculated variance on dataset Entry_0 at 2023-05-18 13:42:11.727222.\n",
      "Calculated skewness on dataset Entry_0 at 2023-05-18 13:42:12.160186.\n",
      "Calculated kurtosis on dataset Entry_0 at 2023-05-18 13:42:12.588590.\n",
      "Calculated peak_count on dataset Entry_0 at 2023-05-18 13:42:12.604252.\n",
      "Calculated RMS on dataset Entry_0 at 2023-05-18 13:42:12.604252.\n",
      "Calculated average on dataset Entry_1 at 2023-05-18 13:42:12.635499.\n"
     ]
    },
    {
     "data": {
      "text/plain": [
       "{'R': 0.64, 'RMSE': 0.74, 'RelRMSE': 0.18, 'MAE': 0.64, 'RAE': 0.9}"
      ]
     },
     "execution_count": 5,
     "metadata": {},
     "output_type": "execute_result"
    },
    {
     "data": {
      "image/png": "[encoded data removed]",
      "text/plain": [
       "<Figure size 432x288 with 1 Axes>"
      ]
     },
     "metadata": {
      "needs_background": "light"
     },
     "output_type": "display_data"
    }
   ],
   "source": [
    "# Create DFE object\n",
    "dfeo = DFE_object.DFE_object()\n",
    "\n",
    "# Upload data\n",
    "dfeo.import_from_pandas(data, t = 0)\n",
    "dfeo.import_from_pandas(y, y = 0)\n",
    "\n",
    "# Feature Extraction\n",
    "dfeo.set_window_scheme(length = 1200, overlap = 600) # 20 minutes\n",
    "dfeo.fe_average(\"Entry_0\")\n",
    "dfeo.fe_variance(\"Entry_0\")\n",
    "dfeo.fe_skewness(\"Entry_0\")\n",
    "dfeo.fe_kurtosis(\"Entry_0\")\n",
    "dfeo.fe_peak_count(\"Entry_0\")\n",
    "dfeo.fe_RMS(\"Entry_0\")\n",
    "\n",
    "t = np.array(dfeo.data_in[\"Entry_0\"]['raw_data'])[:,0]\n",
    "dfeo.KDE(\"Entry_1\", t) # this assumes linear alignment with weather dataset, which is valid in this case\n",
    "dfeo.fe_average(\"Entry_1\")\n",
    "\n",
    "dfeo.normalize(\"Entry_0_average\")\n",
    "dfeo.normalize(\"Entry_0_variance\")\n",
    "dfeo.normalize(\"Entry_0_skewness\")\n",
    "dfeo.normalize(\"Entry_0_kurtosis\")\n",
    "dfeo.normalize(\"Entry_0_peak_count\")\n",
    "dfeo.normalize(\"Entry_0_RMS\")\n",
    "dfeo.normalize(\"Entry_1_average\")\n",
    "\n",
    "# Fusion\n",
    "dfeo.concatenate()\n",
    "\n",
    "# Dimension Reduction: PCA\n",
    "dfeo.my_PCA(\"active\")\n",
    "\n",
    "# Regression\n",
    "dfeo.linear_regression()\n",
    "dfeo.regression_report()\n"
   ]
  },
  {
   "cell_type": "markdown",
   "id": "f8bab95f",
   "metadata": {},
   "source": [
    "# Long Window - Random Forest"
   ]
  },
  {
   "cell_type": "code",
   "execution_count": 6,
   "id": "77b443ef",
   "metadata": {},
   "outputs": [
    {
     "name": "stdout",
     "output_type": "stream",
     "text": [
      "Calculated average on dataset Entry_0 at 2023-05-18 13:42:12.794121.\n",
      "Calculated variance on dataset Entry_0 at 2023-05-18 13:42:12.810930.\n",
      "Calculated skewness on dataset Entry_0 at 2023-05-18 13:42:12.957860.\n",
      "Calculated kurtosis on dataset Entry_0 at 2023-05-18 13:42:13.121318.\n",
      "Calculated peak_count on dataset Entry_0 at 2023-05-18 13:42:13.136991.\n",
      "Calculated RMS on dataset Entry_0 at 2023-05-18 13:42:13.136991.\n",
      "Calculated average on dataset Entry_1 at 2023-05-18 13:42:13.152568.\n"
     ]
    },
    {
     "data": {
      "text/plain": [
       "{'R': 0.6, 'RMSE': 0.55, 'RelRMSE': 0.28, 'MAE': 0.47, 'RAE': 0.83}"
      ]
     },
     "execution_count": 6,
     "metadata": {},
     "output_type": "execute_result"
    },
    {
     "data": {
      "image/png": "[encoded data removed]",
      "text/plain": [
       "<Figure size 432x288 with 1 Axes>"
      ]
     },
     "metadata": {
      "needs_background": "light"
     },
     "output_type": "display_data"
    }
   ],
   "source": [
    "# Create DFE object\n",
    "dfeo = DFE_object.DFE_object()\n",
    "\n",
    "# Upload data\n",
    "dfeo.import_from_pandas(data, t = 0)\n",
    "dfeo.import_from_pandas(y, y = 0)\n",
    "\n",
    "# Feature Extraction\n",
    "dfeo.set_window_scheme(length = 3600, overlap = 1800) # 20 minutes\n",
    "dfeo.fe_average(\"Entry_0\")\n",
    "dfeo.fe_variance(\"Entry_0\")\n",
    "dfeo.fe_skewness(\"Entry_0\")\n",
    "dfeo.fe_kurtosis(\"Entry_0\")\n",
    "dfeo.fe_peak_count(\"Entry_0\")\n",
    "dfeo.fe_RMS(\"Entry_0\")\n",
    "\n",
    "t = np.array(dfeo.data_in[\"Entry_0\"]['raw_data'])[:,0]\n",
    "dfeo.KDE(\"Entry_1\", t) # this assumes linear alignment with weather dataset, which is valid in this case\n",
    "dfeo.fe_average(\"Entry_1\")\n",
    "\n",
    "dfeo.normalize(\"Entry_0_average\")\n",
    "dfeo.normalize(\"Entry_0_variance\")\n",
    "dfeo.normalize(\"Entry_0_skewness\")\n",
    "dfeo.normalize(\"Entry_0_kurtosis\")\n",
    "dfeo.normalize(\"Entry_0_peak_count\")\n",
    "dfeo.normalize(\"Entry_0_RMS\")\n",
    "dfeo.normalize(\"Entry_1_average\")\n",
    "\n",
    "# Fusion\n",
    "dfeo.concatenate()\n",
    "\n",
    "# Dimension Reduction: PCA\n",
    "dfeo.my_PCA(\"active\")\n",
    "\n",
    "# Regression\n",
    "dfeo.linear_regression()\n",
    "dfeo.regression_report()\n"
   ]
  },
  {
   "cell_type": "code",
   "execution_count": null,
   "id": "f5a2860c",
   "metadata": {},
   "outputs": [],
   "source": []
  }
 ],
 "metadata": {
  "kernelspec": {
   "display_name": "Python 3",
   "language": "python",
   "name": "python3"
  },
  "language_info": {
   "codemirror_mode": {
    "name": "ipython",
    "version": 3
   },
   "file_extension": ".py",
   "mimetype": "text/x-python",
   "name": "python",
   "nbconvert_exporter": "python",
   "pygments_lexer": "ipython3",
   "version": "3.8.8"
  }
 },
 "nbformat": 4,
 "nbformat_minor": 5
}
