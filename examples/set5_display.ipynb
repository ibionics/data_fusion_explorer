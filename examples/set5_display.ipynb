{
 "cells": [
  {
   "cell_type": "code",
   "execution_count": 1,
   "id": "35fc18cd",
   "metadata": {},
   "outputs": [
    {
     "name": "stdout",
     "output_type": "stream",
     "text": [
      "[6.60323851 6.09377574 1.124095343 1.850741952 2.976497616 0.410901886\n",
      " 0.062227328 6.192336624 0.066356516 9.933092284 1.806340361]\n"
     ]
    }
   ],
   "source": [
    "# Collect Data\n",
    "import pandas as pd\n",
    "import numpy as np\n",
    "\n",
    "data_path = \"./Sweet Potato/data.csv\"\n",
    "sp_data = pd.read_csv(data_path, header=0)\n",
    "\n",
    "label = {'U.S. No. 1':1,'Cull':-1}\n",
    "Y = np.array(sp_data['Shape'].map(label))\n",
    "\n",
    "sp_data = np.array(sp_data)\n",
    "sp_data1 = sp_data[:,1:8]\n",
    "sp_data2 = sp_data[:,9:12]\n",
    "diameters = sp_data[:,12:43]\n",
    "sdRads = sp_data[:,43:71]\n",
    "sp_data3 = sp_data[:,71].reshape(-1,1)\n",
    "\n",
    "sp_data  = np.concatenate((sp_data1, sp_data2, sp_data3),axis=1)\n",
    "print(sp_data[0,:])"
   ]
  },
  {
   "cell_type": "code",
   "execution_count": 2,
   "id": "12406a62",
   "metadata": {},
   "outputs": [],
   "source": [
    "import DFE_object"
   ]
  },
  {
   "cell_type": "code",
   "execution_count": 3,
   "id": "914b4c43",
   "metadata": {},
   "outputs": [
    {
     "name": "stdout",
     "output_type": "stream",
     "text": [
      "              precision    recall  f1-score   support\n",
      "\n",
      "         0.0       0.79      0.53      0.63       139\n",
      "         1.0       0.62      0.85      0.72       128\n",
      "\n",
      "    accuracy                           0.68       267\n",
      "   macro avg       0.71      0.69      0.68       267\n",
      "weighted avg       0.71      0.68      0.67       267\n",
      "\n"
     ]
    },
    {
     "data": {
      "image/png": "[encoded data removed]",
      "text/plain": [
       "<Figure size 432x288 with 2 Axes>"
      ]
     },
     "metadata": {
      "needs_background": "light"
     },
     "output_type": "display_data"
    },
    {
     "data": {
      "text/plain": [
       "(array([[ 73,  66],\n",
       "        [ 19, 109]], dtype=int64),\n",
       " <sklearn.metrics._plot.confusion_matrix.ConfusionMatrixDisplay at 0x1ff71ba8ca0>)"
      ]
     },
     "execution_count": 3,
     "metadata": {},
     "output_type": "execute_result"
    }
   ],
   "source": [
    "# Create DFE object\n",
    "dfeo = DFE_object.DFE_object()\n",
    "\n",
    "# Upload data\n",
    "dfeo.import_from_pandas(pd.DataFrame(diameters))\n",
    "dfeo.import_from_pandas(pd.DataFrame(sdRads))\n",
    "dfeo.import_from_pandas(pd.DataFrame(Y), y = 0, categorical = 0)\n",
    "\n",
    "out_diam = dfeo.data_in[\"Entry_0\"]['raw_data']\n",
    "\n",
    "# Dimension Reduction: PCA\n",
    "dfeo.my_ICA(\"Entry_0\")\n",
    "dfeo.my_ICA(\"Entry_1\")\n",
    "\n",
    "dfeo.normalize(\"Entry_0\")\n",
    "dfeo.normalize(\"Entry_1\")\n",
    "\n",
    "# Fusion\n",
    "dfeo.concatenate()\n",
    "\n",
    "# Classification: Naive Bayes\n",
    "dfeo.naive_bayes()\n",
    "dfeo.classification_report()"
   ]
  },
  {
   "cell_type": "code",
   "execution_count": 4,
   "id": "0c6b23ea",
   "metadata": {},
   "outputs": [
    {
     "name": "stdout",
     "output_type": "stream",
     "text": [
      "              precision    recall  f1-score   support\n",
      "\n",
      "        -1.0       0.67      0.44      0.53       127\n",
      "         1.0       0.61      0.80      0.69       140\n",
      "\n",
      "    accuracy                           0.63       267\n",
      "   macro avg       0.64      0.62      0.61       267\n",
      "weighted avg       0.64      0.63      0.62       267\n",
      "\n"
     ]
    },
    {
     "data": {
      "image/png": "[encoded data removed]",
      "text/plain": [
       "<Figure size 432x288 with 2 Axes>"
      ]
     },
     "metadata": {
      "needs_background": "light"
     },
     "output_type": "display_data"
    },
    {
     "data": {
      "text/plain": [
       "(array([[ 56,  71],\n",
       "        [ 28, 112]], dtype=int64),\n",
       " <sklearn.metrics._plot.confusion_matrix.ConfusionMatrixDisplay at 0x1ff71bb5400>)"
      ]
     },
     "execution_count": 4,
     "metadata": {},
     "output_type": "execute_result"
    }
   ],
   "source": [
    "# Create DFE object\n",
    "dfeo = DFE_object.DFE_object()\n",
    "\n",
    "# Upload data\n",
    "dfeo.import_from_pandas(pd.DataFrame(diameters))\n",
    "dfeo.import_from_pandas(pd.DataFrame(sdRads))\n",
    "dfeo.import_from_pandas(pd.DataFrame(Y), y = 0)\n",
    "\n",
    "# Dimension Reduction: PCA\n",
    "dfeo.my_PCA(\"Entry_0\")\n",
    "dfeo.my_PCA(\"Entry_1\")\n",
    "\n",
    "dfeo.normalize(\"Entry_0\")\n",
    "dfeo.normalize(\"Entry_1\")\n",
    "\n",
    "# Fusion\n",
    "dfeo.concatenate()\n",
    "\n",
    "# Classification: Naive Bayes\n",
    "dfeo.naive_bayes()\n",
    "dfeo.classification_report()"
   ]
  },
  {
   "cell_type": "code",
   "execution_count": null,
   "id": "72198559",
   "metadata": {},
   "outputs": [],
   "source": []
  }
 ],
 "metadata": {
  "kernelspec": {
   "display_name": "Python 3",
   "language": "python",
   "name": "python3"
  },
  "language_info": {
   "codemirror_mode": {
    "name": "ipython",
    "version": 3
   },
   "file_extension": ".py",
   "mimetype": "text/x-python",
   "name": "python",
   "nbconvert_exporter": "python",
   "pygments_lexer": "ipython3",
   "version": "3.8.8"
  }
 },
 "nbformat": 4,
 "nbformat_minor": 5
}
